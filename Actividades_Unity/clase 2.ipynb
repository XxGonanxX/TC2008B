{
 "cells": [
  {
   "cell_type": "markdown",
   "metadata": {},
   "source": [
    "09/08/23"
   ]
  },
  {
   "cell_type": "markdown",
   "metadata": {},
   "source": [
    "Las presentaciones de la clase están en el repo del profesor, en el folder de graphics y en el readme. Se entregarán laboratorios. De preferencia ver los readmes desde la web porque en visual no se ven bien los readmes.\n",
    "\n",
    "option = alt de windows, lo digo porque los labs son orientados a windows, no a mac."
   ]
  }
 ],
 "metadata": {
  "language_info": {
   "name": "python"
  },
  "orig_nbformat": 4
 },
 "nbformat": 4,
 "nbformat_minor": 2
}
