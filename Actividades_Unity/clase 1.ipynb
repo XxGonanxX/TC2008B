{
 "cells": [
  {
   "cell_type": "markdown",
   "metadata": {},
   "source": [
    "07/08/23"
   ]
  },
  {
   "cell_type": "markdown",
   "metadata": {},
   "source": [
    "Solo se nos comentó instalar Unity y el uso del mismo."
   ]
  }
 ],
 "metadata": {
  "language_info": {
   "name": "python"
  },
  "orig_nbformat": 4
 },
 "nbformat": 4,
 "nbformat_minor": 2
}
