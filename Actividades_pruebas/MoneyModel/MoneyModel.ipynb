{
 "cells": [
  {
   "cell_type": "markdown",
   "metadata": {},
   "source": [
    "Imports\n",
    "Antes de empezar a crear el modelo del juego de la vida con multiagentes es necesario tener instalado los siguientes paquetes:\n",
    "\n",
    "python: asegúrense de usar la versión 3+.  \n",
    "mesa: el framework de Python para el modelado de agentes.  \n",
    "numpy: es una biblioteca de Python para el manejo de matrices, arreglos, manipulación matemática, lógica y mucho más.  \n",
    "matplotlib: es una biblioteca para crear visualizaciones estáticas, animadas e interactivas en Python.  \n",
    "Para poder modelar a los integrantes de nuestro sistema usando el framework de mesa es necesario importar dos clases: una para el modelo general, y otro para los agentes.  "
   ]
  },
  {
   "cell_type": "code",
   "execution_count": 36,
   "metadata": {},
   "outputs": [],
   "source": [
    "#IMPORTS DEL REPO DEL PROFE#\n",
    "\n",
    "from mesa import Agent, Model\n",
    "from mesa.time import RandomActivation\n",
    "\n",
    "# For a jupyter notebook add the following line:\n",
    "%matplotlib inline\n",
    "# The below is needed for both notebooks and scripts\n",
    "import matplotlib.pyplot as plt"
   ]
  },
  {
   "cell_type": "code",
   "execution_count": 37,
   "metadata": {},
   "outputs": [],
   "source": [
    "class MoneyAgent(Agent):\n",
    "    def __init__(self, id, model):\n",
    "        super().__init__(id, model)\n",
    "        self.wealth = 1\n",
    "    \n",
    "    def step(self):\n",
    "        if self.wealth == 0:\n",
    "            return\n",
    "        \n",
    "        other_agent = self.random.choice(self.model.schedule.agents)\n",
    "        other_agent.wealth += 1\n",
    "        self.wealth -= 1"
   ]
  },
  {
   "cell_type": "code",
   "execution_count": 38,
   "metadata": {},
   "outputs": [],
   "source": [
    "class MoneyModel(Model):\n",
    "    def __init__(self, num_agents):\n",
    "        self.schedule = RandomActivation(self)\n",
    "        \n",
    "        for i in range(num_agents):\n",
    "            agent = MoneyAgent(i, self)\n",
    "            self.schedule.add(agent)\n",
    "            \n",
    "    def step(self):\n",
    "        self.schedule.step()"
   ]
  },
  {
   "cell_type": "code",
   "execution_count": 39,
   "metadata": {},
   "outputs": [
    {
     "ename": "NameError",
     "evalue": "name 'agent' is not defined",
     "output_type": "error",
     "traceback": [
      "\u001b[0;31m---------------------------------------------------------------------------\u001b[0m",
      "\u001b[0;31mNameError\u001b[0m                                 Traceback (most recent call last)",
      "Cell \u001b[0;32mIn[39], line 4\u001b[0m\n\u001b[1;32m      1\u001b[0m NUM_AGENTS \u001b[39m=\u001b[39m \u001b[39m10\u001b[39m\n\u001b[1;32m      2\u001b[0m MAX_ITERATIONS \u001b[39m=\u001b[39m \u001b[39m10\u001b[39m\n\u001b[0;32m----> 4\u001b[0m model \u001b[39m=\u001b[39m MoneyModel(NUM_AGENTS)\n\u001b[1;32m      5\u001b[0m \u001b[39mfor\u001b[39;00m i \u001b[39min\u001b[39;00m \u001b[39mrange\u001b[39m(MAX_ITERATIONS):\n\u001b[1;32m      6\u001b[0m     model\u001b[39m.\u001b[39mstep()\n",
      "Cell \u001b[0;32mIn[38], line 7\u001b[0m, in \u001b[0;36mMoneyModel.__init__\u001b[0;34m(self, num_agents)\u001b[0m\n\u001b[1;32m      5\u001b[0m \u001b[39mfor\u001b[39;00m i \u001b[39min\u001b[39;00m \u001b[39mrange\u001b[39m(num_agents):\n\u001b[1;32m      6\u001b[0m     a \u001b[39m=\u001b[39m MoneyAgent(i, \u001b[39mself\u001b[39m)\n\u001b[0;32m----> 7\u001b[0m     \u001b[39mself\u001b[39m\u001b[39m.\u001b[39mschedule\u001b[39m.\u001b[39madd(agent)\n",
      "\u001b[0;31mNameError\u001b[0m: name 'agent' is not defined"
     ]
    }
   ],
   "source": [
    "NUM_AGENTS = 10\n",
    "MAX_ITERATIONS = 10\n",
    "\n",
    "model = MoneyModel(NUM_AGENTS)\n",
    "for i in range(MAX_ITERATIONS):\n",
    "    model.step()"
   ]
  },
  {
   "cell_type": "code",
   "execution_count": null,
   "metadata": {},
   "outputs": [
    {
     "ename": "NameError",
     "evalue": "name 'model' is not defined",
     "output_type": "error",
     "traceback": [
      "\u001b[0;31m---------------------------------------------------------------------------\u001b[0m",
      "\u001b[0;31mNameError\u001b[0m                                 Traceback (most recent call last)",
      "Cell \u001b[0;32mIn[31], line 1\u001b[0m\n\u001b[0;32m----> 1\u001b[0m agent_wealth \u001b[39m=\u001b[39m [agent\u001b[39m.\u001b[39mwealth \u001b[39mfor\u001b[39;00m agent \u001b[39min\u001b[39;00m model\u001b[39m.\u001b[39mschedule\u001b[39m.\u001b[39magents]\n\u001b[1;32m      2\u001b[0m plt\u001b[39m.\u001b[39mhist(agent_wealth)\n",
      "\u001b[0;31mNameError\u001b[0m: name 'model' is not defined"
     ]
    }
   ],
   "source": [
    "agent_wealth = [agent.wealth for agent in model.schedule.agents]\n",
    "plt.hist(agent_wealth)"
   ]
  }
 ],
 "metadata": {
  "kernelspec": {
   "display_name": "Python 3",
   "language": "python",
   "name": "python3"
  },
  "language_info": {
   "codemirror_mode": {
    "name": "ipython",
    "version": 3
   },
   "file_extension": ".py",
   "mimetype": "text/x-python",
   "name": "python",
   "nbconvert_exporter": "python",
   "pygments_lexer": "ipython3",
   "version": "3.9.6"
  },
  "orig_nbformat": 4
 },
 "nbformat": 4,
 "nbformat_minor": 2
}
