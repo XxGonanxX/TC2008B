{
 "cells": [
  {
   "cell_type": "markdown",
   "metadata": {},
   "source": [
    "Todo el código del primer bloque fue recuperado del archivo del mismo nombre del repositorio del profe."
   ]
  },
  {
   "cell_type": "code",
   "execution_count": 9,
   "metadata": {},
   "outputs": [],
   "source": [
    "# Importamos las clases que se requieren para manejar los agentes (Agent) y su entorno (Model).\n",
    "# Cada modelo puede contener múltiples agentes.\n",
    "from mesa import Agent, Model \n",
    "\n",
    "# Debido a que necesitamos que existe un solo agente por celda, elegimos ''SingleGrid''.\n",
    "from mesa.space import SingleGrid\n",
    "\n",
    "# Con ''SimultaneousActivation, hacemos que todos los agentes se activen ''al mismo tiempo''.\n",
    "from mesa.time import SimultaneousActivation\n",
    "\n",
    "# Haremos uso de ''DataCollector'' para obtener información de cada paso de la simulación.\n",
    "from mesa.datacollection import DataCollector\n",
    "\n",
    "# matplotlib lo usaremos crear una animación de cada uno de los pasos del modelo.\n",
    "%matplotlib inline\n",
    "import matplotlib\n",
    "import matplotlib.pyplot as plt\n",
    "import matplotlib.animation as animation\n",
    "plt.rcParams[\"animation.html\"] = \"jshtml\"\n",
    "matplotlib.rcParams['animation.embed_limit'] = 2**128\n",
    "\n",
    "# Importamos los siguientes paquetes para el mejor manejo de valores numéricos.\n",
    "import numpy as np\n",
    "import pandas as pd\n",
    "\n",
    "# Definimos otros paquetes que vamos a usar para medir el tiempo de ejecución de nuestro algoritmo.\n",
    "import time\n",
    "import datetime"
   ]
  },
  {
   "cell_type": "code",
   "execution_count": 10,
   "metadata": {},
   "outputs": [],
   "source": [
    "class GameOfLifeAgent(Agent):\n",
    "    def __init__(self, id, model):\n",
    "        super().__init__(id, model)\n",
    "        self.live = np.random.choice([0, 1])\n",
    "        self.next_state = None\n",
    "    \n",
    "    def step(self):\n",
    "        neighbors = self.model.grid.get_neighbors(self.pos,\n",
    "                                                moore = True,\n",
    "                                                include_center = False)\n",
    "        \n",
    "        count = 0\n",
    "        for Agent in neighbors:\n",
    "            count = count + Agent.live\n",
    "            \n",
    "        self.next_state = self.live\n",
    "        if (self.next_state == 1):\n",
    "            if (count < 2) or (count > 3):\n",
    "                self.next_state = 0\n",
    "        else:\n",
    "            if (count == 3):\n",
    "                self.next_state = 1\n",
    "                \n",
    "    def advance(self):\n",
    "        self.live = self.next_state"
   ]
  },
  {
   "cell_type": "code",
   "execution_count": 11,
   "metadata": {},
   "outputs": [],
   "source": [
    "def get_grid(model):\n",
    "    grid = np.zeros((model.grid.width, model.grid.height))\n",
    "    for (content, (x, y)) in model.grid.coord_iter():\n",
    "        grid[x][y] = content.live\n",
    "    return grid"
   ]
  },
  {
   "cell_type": "code",
   "execution_count": 12,
   "metadata": {},
   "outputs": [],
   "source": [
    "class GameOfLife(Model):\n",
    "    def __init__(self, width, height):\n",
    "        self.grid = SingleGrid(width, height, torus = True)\n",
    "        self.schedule = SimultaneousActivation(self)\n",
    "        \n",
    "        for (content, (x, y)) in self.grid.coord_iter():\n",
    "            agent = GameOfLifeAgent((x, y), self)\n",
    "            self.grid.place_agent(agent, (x, y))\n",
    "            self.schedule.add(agent)\n",
    "            \n",
    "        self.datacollector = DataCollector(model_reporters={\n",
    "            \"Grid\" : get_grid})\n",
    "        \n",
    "    def step(self):\n",
    "        self.datacollector.collect(self)\n",
    "        self.schedule.step()"
   ]
  },
  {
   "cell_type": "code",
   "execution_count": 13,
   "metadata": {},
   "outputs": [],
   "source": [
    "GRID_SIZE = 50\n",
    "MAX_GENERATIONS = 200\n",
    "\n",
    "model = GameOfLife(GRID_SIZE, GRID_SIZE)\n",
    "for i in range(MAX_GENERATIONS):\n",
    "    model.step()"
   ]
  },
  {
   "cell_type": "code",
   "execution_count": 14,
   "metadata": {},
   "outputs": [],
   "source": [
    "all_grid = model.datacollector.get_model_vars_dataframe()"
   ]
  },
  {
   "cell_type": "code",
   "execution_count": 15,
   "metadata": {},
   "outputs": [
    {
     "name": "stderr",
     "output_type": "stream",
     "text": [
      "MovieWriter imagemagick unavailable; using Pillow instead.\n"
     ]
    },
    {
     "data": {
      "image/png": "[encoded data removed]",
      "text/plain": [
       "<Figure size 500x500 with 1 Axes>"
      ]
     },
     "metadata": {},
     "output_type": "display_data"
    }
   ],
   "source": [
    "\n",
    "fig, axis = plt.subplots(figsize=(5, 5))\n",
    "axis.set_xticks([]) \n",
    "axis.set_yticks([])\n",
    "patch = plt.imshow(all_grid.iloc[0][0], cmap=plt.cm.binary)\n",
    "\n",
    "def animate(i):\n",
    "    patch.set_data(all_grid.iloc[i][0])\n",
    "\n",
    "anim = animation.FuncAnimation(\n",
    "    fig, animate, frames=MAX_GENERATIONS)\n",
    "\n",
    "# La animación se guarda como GIF, para verla, abre el archivo creado en esta misma carpeta.\n",
    "anim.save('game_of_life.gif', writer='imagemagick', fps=10)\n",
    "\n"
   ]
  }
 ],
 "metadata": {
  "kernelspec": {
   "display_name": "Python 3",
   "language": "python",
   "name": "python3"
  },
  "language_info": {
   "codemirror_mode": {
    "name": "ipython",
    "version": 3
   },
   "file_extension": ".py",
   "mimetype": "text/x-python",
   "name": "python",
   "nbconvert_exporter": "python",
   "pygments_lexer": "ipython3",
   "version": "3.9.6"
  },
  "orig_nbformat": 4
 },
 "nbformat": 4,
 "nbformat_minor": 2
}
