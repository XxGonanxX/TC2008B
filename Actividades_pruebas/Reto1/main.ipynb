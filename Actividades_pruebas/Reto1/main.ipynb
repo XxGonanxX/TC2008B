{
 "cells": [
  {
   "cell_type": "markdown",
   "metadata": {},
   "source": [
    "Se deben generar 5 robots como Roombas, que limpien una oficina y cada una tiene capacidad de 5 unidades de basura. Al inicio, se debe ingresar un .txt con las dimensiones de la sala (5<=x<=50) y después se dará el mapeo, EJ:\n",
    "\n",
    "\n",
    "4 4  \n",
    "S 0 X 3  \n",
    "1 2 7 X  \n",
    "2 X 2 2  \n",
    "0 0 0 P  \n",
    " \n",
    "Los espacios en los que hay una X, son espacios inaccesibles, P es la papelera y S es el punto de partida de los robots. Los robots no pueden conocer el mapa, solo pueden conocer la ubicación de la papelera. Los robots deberán explorar y recoger las unidades de basura que puedan, en caso de requerir ayuda, pueden solicitar ayuda a los demás robots. Cabe destacar que los robots no pueden saber nada del mapa a excepción de lo que se mapea, en caso de que los robots muestren que saben donde hay basura, se penalizarán por 50 puntos.\n",
    "\n",
    "Los robots son capaces de ver y dar a conocer a los demás robots solo los bloques con los que estén colindando, EJ:\n",
    "\n",
    "? ? ? ? ? ? ? ?  \n",
    "? ? ? 1 2 7 ? ?  \n",
    "? ? ? 0 R 5 ? ?  \n",
    "? ? ? 1 2 X ? ?  \n",
    "? ? ? ? ? ? ? ?  \n",
    "\n",
    "\n",
    "\n",
    "Si tienes alguna duda, habla con el profesor o revisa el repo de la clase."
   ]
  },
  {
   "cell_type": "code",
   "execution_count": null,
   "metadata": {},
   "outputs": [],
   "source": []
  }
 ],
 "metadata": {
  "kernelspec": {
   "display_name": "Python 3",
   "language": "python",
   "name": "python3"
  },
  "language_info": {
   "codemirror_mode": {
    "name": "ipython",
    "version": 3
   },
   "file_extension": ".py",
   "mimetype": "text/x-python",
   "name": "python",
   "nbconvert_exporter": "python",
   "pygments_lexer": "ipython3",
   "version": "3.9.6"
  },
  "orig_nbformat": 4
 },
 "nbformat": 4,
 "nbformat_minor": 2
}
