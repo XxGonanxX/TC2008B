{
 "cells": [
  {
   "cell_type": "markdown",
   "metadata": {},
   "source": [
    "Segregation Model"
   ]
  },
  {
   "cell_type": "code",
   "execution_count": 8,
   "metadata": {},
   "outputs": [],
   "source": [
    "#IMPORTADO DEL REPO DE LA CLASE#\n",
    "\n",
    "# Importamos las clases que se requieren para manejar los agentes (Agent) y su entorno (Model).\n",
    "# Cada modelo puede contener múltiples agentes.\n",
    "from mesa import Agent, Model \n",
    "\n",
    "# Debido a que necesitamos que existe un solo agente por celda, elegimos ''SingleGrid''.\n",
    "from mesa.space import SingleGrid\n",
    "\n",
    "# Con ''RandomActivation'', hacemos que todos los agentes se activen ''al mismo tiempo''.\n",
    "from mesa.time import RandomActivation\n",
    "\n",
    "# Haremos uso de ''DataCollector'' para obtener información de cada paso de la simulación.\n",
    "from mesa.datacollection import DataCollector\n",
    "\n",
    "# matplotlib lo usaremos crear una animación de cada uno de los pasos del modelo.\n",
    "%matplotlib inline\n",
    "import matplotlib\n",
    "import matplotlib.pyplot as plt\n",
    "import matplotlib.animation as animation\n",
    "plt.rcParams[\"animation.html\"] = \"jshtml\"\n",
    "matplotlib.rcParams['animation.embed_limit'] = 2**128\n",
    "\n",
    "# Importamos los siguientes paquetes para el mejor manejo de valores numéricos.\n",
    "import numpy as np\n",
    "import pandas as pd\n",
    "\n",
    "# Definimos otros paquetes que vamos a usar para medir el tiempo de ejecución de nuestro algoritmo.\n",
    "import time\n",
    "import datetime"
   ]
  },
  {
   "cell_type": "code",
   "execution_count": 9,
   "metadata": {},
   "outputs": [],
   "source": [
    "# Vamos a crear el agente\n",
    "class SegregationAgent(Agent):\n",
    "    def __init__(self, id, model, type = 1, threshold = 0.30):\n",
    "        super().__init__(id, model)\n",
    "        self.type = type\n",
    "        #threshold es el límite de comodidad del umbral para el agente\n",
    "        self.threshold = threshold\n",
    "        \n",
    "    #Definir el comportamiento del agente\n",
    "    def step(self):\n",
    "        neighbors = self.model.grid.get_neighbors(self.pos, \n",
    "                                                    moore = True,\n",
    "                                                    include_center = False)\n",
    "        \n",
    "        #Contar el número de vecinos que son del mismo tipo\n",
    "        count = 0\n",
    "        for agent in neighbors:\n",
    "            if agent.type == self.type:\n",
    "                count += 1\n",
    "                \n",
    "        #Calcular el porcentaje de vecinos que son del mismo tipo\n",
    "        percentage = 0.0\n",
    "        if len(neighbors) > 0:\n",
    "            percentage = float(count) / float(len(neighbors))\n",
    "            \n",
    "        if percentage < self.threshold:\n",
    "            self.model.grid.move_to_empty(self)"
   ]
  },
  {
   "cell_type": "code",
   "execution_count": 10,
   "metadata": {},
   "outputs": [],
   "source": [
    "# Se genera la grid de la simulación\n",
    "def get_grid(model):\n",
    "    grid = np.zeros((model.grid.width, model.grid.height))\n",
    "    for (content, (x, y)) in model.grid.coord_iter():\n",
    "        if content != None:\n",
    "            grid[y][x] = int(content.type)\n",
    "        else:\n",
    "            # Aquí puedes cambiar la escala de grises\n",
    "            grid[y][x] = 2\n",
    "    return grid"
   ]
  },
  {
   "cell_type": "code",
   "execution_count": 11,
   "metadata": {},
   "outputs": [],
   "source": [
    "# Ahora haremos el modelo\n",
    "class SegregationModel(Model):\n",
    "    def __init__(self, width, height, empty_cells = 0.2, threshold = 0.3):\n",
    "        self.grid = SingleGrid(width, height, torus = True)\n",
    "        self.schedule = RandomActivation(self)\n",
    "        self.datacollector = DataCollector(\n",
    "            model_reporters = {\"Grid\": get_grid}\n",
    "        )\n",
    "        \n",
    "        id = 0\n",
    "        \n",
    "        num_agents = int((width * height) * (1 - empty_cells))\n",
    "        while self.grid.exists_empty_cells():\n",
    "            agent = SegregationAgent(id, self, np.random.choice([0, 1]), threshold)\n",
    "            self.grid.move_to_empty(agent)\n",
    "            self.schedule.add(agent)\n",
    "            \n",
    "            id += 1\n",
    "            if id > num_agents:\n",
    "                break\n",
    "            \n",
    "    def step(self):\n",
    "        self.datacollector.collect(self)\n",
    "        self.schedule.step()"
   ]
  },
  {
   "cell_type": "code",
   "execution_count": 12,
   "metadata": {},
   "outputs": [],
   "source": [
    "#El modificar el Threshold y el Empty_cells modificará el resultado.\n",
    "\n",
    "GRID_SIZE = 55\n",
    "MAX_ITERATIONS = 100\n",
    "# El threshold es el porcentaje de vecinos que deben ser iguales al agente para que este se sienta satisfecho\n",
    "TRESHOLD = 0.8\n",
    "# El porcentaje de celdas vacias\n",
    "EMPTY_CELLS = 0.2\n",
    "\n",
    "model = SegregationModel(GRID_SIZE, GRID_SIZE, EMPTY_CELLS, TRESHOLD)\n",
    "for i in range(MAX_ITERATIONS):\n",
    "    model.step()"
   ]
  },
  {
   "cell_type": "code",
   "execution_count": 13,
   "metadata": {},
   "outputs": [],
   "source": [
    "all_grid = model.datacollector.get_model_vars_dataframe()"
   ]
  },
  {
   "cell_type": "code",
   "execution_count": 14,
   "metadata": {},
   "outputs": [
    {
     "name": "stderr",
     "output_type": "stream",
     "text": [
      "MovieWriter imagemagick unavailable; using Pillow instead.\n"
     ]
    },
    {
     "data": {
      "image/png": "[encoded data removed]",
      "text/plain": [
       "<Figure size 500x500 with 1 Axes>"
      ]
     },
     "metadata": {},
     "output_type": "display_data"
    }
   ],
   "source": [
    "\n",
    "fig, axis = plt.subplots(figsize=(5, 5))\n",
    "axis.set_xticks([]) \n",
    "axis.set_yticks([])\n",
    "patch = plt.imshow(all_grid.iloc[0][0], cmap=plt.cm.binary)\n",
    "\n",
    "def animate(i):\n",
    "    patch.set_data(all_grid.iloc[i][0])\n",
    "\n",
    "anim = animation.FuncAnimation(\n",
    "    fig, animate, frames=MAX_ITERATIONS)\n",
    "\n",
    "# La animación se guarda como GIF, para verla, abre el archivo creado en esta misma carpeta.\n",
    "anim.save('segregation_model.gif', writer='imagemagick', fps=10)"
   ]
  }
 ],
 "metadata": {
  "kernelspec": {
   "display_name": "Python 3",
   "language": "python",
   "name": "python3"
  },
  "language_info": {
   "codemirror_mode": {
    "name": "ipython",
    "version": 3
   },
   "file_extension": ".py",
   "mimetype": "text/x-python",
   "name": "python",
   "nbconvert_exporter": "python",
   "pygments_lexer": "ipython3",
   "version": "3.9.6"
  },
  "orig_nbformat": 4
 },
 "nbformat": 4,
 "nbformat_minor": 2
}
