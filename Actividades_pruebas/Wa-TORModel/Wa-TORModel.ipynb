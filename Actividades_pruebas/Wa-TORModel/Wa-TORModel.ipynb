{
 "cells": [
  {
   "cell_type": "markdown",
   "metadata": {},
   "source": [
    "Alan Patricio González Bernal - A01067546\n",
    "Entrega Mid-Term de modelo Wa-Tor\n"
   ]
  },
  {
   "cell_type": "markdown",
   "metadata": {},
   "source": [
    "Introducción\n",
    "Wa-Tor es una simulación de peces contra tiburones en un mundo toroidal. Fue diseñado por AK Dewdney en 1984 y publicado en Scientific American bajo el nombre “Tiburones y peces libran una guerra ecológica en el planeta toroidal Wa-Tor”.\n",
    "\n",
    "Tu reto será repetir esta simulación. Así de sencillo.\n",
    "\n",
    "Descripción\n",
    "El mundo de Wa-Tor consiste en una cuadrícula bidimensional de celdas que pueden estar vacías, contener un pez o contener un tiburón. La cuadrícula se envuelve de arriba a abajo y de izquierda a derecha, por lo que también se puede considerar como un toroide (de ahí Wa-Tor).\n",
    "\n",
    "El tiempo avanza en pasos discretos, llamados cronones. En cada cronón, el estado de cada criatura evoluciona de acuerdo con las siguientes reglas:\n",
    "\n",
    "Todas las criaturas empiezan en una celda vacía;\n",
    "Cada pez se mueve aleatoriamente a una celda adyacente (usando un vecindario de von Neumann de celdas vecinas directamente al norte, sur, este y oeste); si las celdas están todas ocupadas, no se mueve;\n",
    "Después de que un pez ha sobrevivido un número fijo de cronones (fertility_threshold), se reproduce dejando otro pez atrás en su celda anterior después de moverse. Posteriormente, su fertilidad se pone a cero;\n",
    "Después de cada cronón, cada pez pierde una unidad de energía. Si la energía de un pez llega a cero, muere;\n",
    "Cada tiburón se mueve aleatoriamente a una celda adyacente (usando un vecindario de von Neumann de celdas vecinas directamente al norte, sur, este y oeste) ocupada por un pez y gana una cierta cantidad de energía al hacerlo (al \"comerse\" el pez); si las celdas adyacentes están todas vacías, se mueve a una de ellas al azar; si las celdas adyacentes están llenas de tiburones, no se mueve;\n",
    "Después de cada cronón, cada tiburón pierde una unidad de energía. Si la energía de un tiburón llega a cero, muere;\n",
    "Una vez que un tiburón alcanza su propio umbral de fertilidad, se reproduce de la misma manera que los peces.\n",
    "Parámetros de la simulación\n",
    "Wa-Tor está controlado por los siguientes parámetros:\n",
    "\n",
    "Tamaño del mundo: 75 x 50.\n",
    "Cantidad de peces: 120\n",
    "Cantidad de tiburones: 40\n",
    "Energía inicial de los peces: 20\n",
    "Energía inicial de los tiburones: 3\n",
    "Umbral de fertilidad de los peces (fertility_threshold): 4\n",
    "Umbral de fertilidad de los tiburones (fertility_threshold): 12"
   ]
  },
  {
   "cell_type": "code",
   "execution_count": 128,
   "metadata": {},
   "outputs": [],
   "source": [
    "# Se generan los imports, los mismos que el segregation model\n",
    "from mesa import Agent, Model \n",
    "\n",
    "# Debido a que necesitamos que existe un solo agente por celda, elegimos ''SingleGrid''.\n",
    "from mesa.space import SingleGrid\n",
    "\n",
    "# Con ''RandomActivation'', hacemos que todos los agentes se activen ''al mismo tiempo''.\n",
    "from mesa.time import RandomActivation\n",
    "\n",
    "# Haremos uso de ''DataCollector'' para obtener información de cada paso de la simulación.\n",
    "from mesa.datacollection import DataCollector\n",
    "\n",
    "# matplotlib lo usaremos crear una animación de cada uno de los pasos del modelo.\n",
    "%matplotlib inline\n",
    "import matplotlib\n",
    "import matplotlib.pyplot as plt\n",
    "import matplotlib.animation as animation\n",
    "plt.rcParams[\"animation.html\"] = \"jshtml\"\n",
    "matplotlib.rcParams['animation.embed_limit'] = 2**128\n",
    "\n",
    "# Importamos los siguientes paquetes para el mejor manejo de valores numéricos.\n",
    "import numpy as np\n",
    "import pandas as pd\n",
    "\n",
    "# Definimos otros paquetes que vamos a usar para medir el tiempo de ejecución de nuestro algoritmo.\n",
    "import time\n",
    "import datetime\n"
   ]
  },
  {
   "cell_type": "code",
   "execution_count": null,
   "metadata": {},
   "outputs": [],
   "source": [
    "# Voy a tratar de rehacer el agente en este bloque, quiero poder comprenderlo al 100% y rectificar errores, pero no borro el otro agente para no perderlo."
   ]
  },
  {
   "cell_type": "code",
   "execution_count": 129,
   "metadata": {},
   "outputs": [],
   "source": [
    "# Se define el agente\n",
    "# Necesito que si es tiburón sea de color rojo, si es pez sea de color azul\n",
    "# Si es tiburón, que se mueva a una celda vacía, si es pez que se mueva a una celda vacía o a una celda con pez\n",
    "# Si es tiburón, que se coma al pez, si es pez que no haga nada\n",
    "# Si es tiburón, que se reproduzca con otro tiburón, si es pez que se reproduzca con otro pez\n",
    "# Si es tiburón, que muera si no se ha comido un pez en 3 pasos, si es pez que muera si no se ha reproducido en 3 pasos\n",
    "\n",
    "class WaTorAgent(Agent):\n",
    "    def __init__(self, id, model):\n",
    "        super().__init__(id, model)\n",
    "        self.live = np.random.choice([0, 1])\n",
    "        self.next_state = None\n",
    "    \n",
    "    def step(self):\n",
    "        neighbors = self.model.grid.get_neighbors(self.pos,\n",
    "                                                moore = True,\n",
    "                                                include_center = False)\n",
    "        if self.live == 1:\n",
    "            self.move(neighbors)\n",
    "            self.eat(neighbors)\n",
    "            self.reproduce(neighbors)\n",
    "            self.die()\n",
    "    \n",
    "    def move(self, neighbors):\n",
    "        if self.next_state == None:\n",
    "            empty_cells = [cell for cell in neighbors if self.model.grid.is_cell_empty(cell)]\n",
    "            if empty_cells:\n",
    "                new_position = self.random.choice(empty_cells)\n",
    "                self.model.grid.move_agent(self, new_position)\n",
    "    \n",
    "    def eat(self, neighbors):\n",
    "        if self.next_state == None:\n",
    "            fish_cells = [cell for cell in neighbors if self.model.grid.is_cell_empty(cell) == False]\n",
    "            if fish_cells:\n",
    "                fish = self.random.choice(fish_cells)\n",
    "                self.model.grid.remove_agent(fish)\n",
    "                self.next_state = 1\n",
    "    \n",
    "    def reproduce(self, neighbors):\n",
    "        if self.next_state == None:\n",
    "            empty_cells = [cell for cell in neighbors if self.model.grid.is_cell_empty(cell)]\n",
    "            if empty_cells:\n",
    "                new_position = self.random.choice(empty_cells)\n",
    "                self.model.grid.place_agent(WaTorAgent(self.model.next_id(), self.model), new_position)\n",
    "    \n",
    "    def die(self):\n",
    "        if self.next_state == None:\n",
    "            self.live = 0\n",
    "        else:\n",
    "            self.live = self.next_state\n",
    "        self.next_state = None\n",
    "    \n",
    "    def advance(self):\n",
    "        pass\n",
    "    "
   ]
  },
  {
   "cell_type": "code",
   "execution_count": 130,
   "metadata": {},
   "outputs": [],
   "source": [
    "def get_grid(model):\n",
    "    grid = np.zeros((model.grid.width, model.grid.height))\n",
    "    for (content, (x, y)) in model.grid.coord_iter():\n",
    "        if content is not None:\n",
    "            grid[x][y] = content.live\n",
    "    return grid\n"
   ]
  }
 ],
 "metadata": {
  "kernelspec": {
   "display_name": "Python 3",
   "language": "python",
   "name": "python3"
  },
  "language_info": {
   "codemirror_mode": {
    "name": "ipython",
    "version": 3
   },
   "file_extension": ".py",
   "mimetype": "text/x-python",
   "name": "python",
   "nbconvert_exporter": "python",
   "pygments_lexer": "ipython3",
   "version": "3.9.6"
  },
  "orig_nbformat": 4
 },
 "nbformat": 4,
 "nbformat_minor": 2
}
